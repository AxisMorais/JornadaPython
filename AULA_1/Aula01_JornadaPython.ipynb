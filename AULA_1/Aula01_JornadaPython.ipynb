{
 "cells": [
  {
   "cell_type": "code",
   "execution_count": 2,
   "id": "9dbd5638",
   "metadata": {},
   "outputs": [
    {
     "name": "stdout",
     "output_type": "stream",
     "text": [
      "Ola Mundo!\n"
     ]
    }
   ],
   "source": [
    "print('Ola Mundo!')"
   ]
  },
  {
   "cell_type": "code",
   "execution_count": 3,
   "id": "8e29debf",
   "metadata": {},
   "outputs": [
    {
     "name": "stdout",
     "output_type": "stream",
     "text": [
      "Requirement already satisfied: pyautogui in c:\\users\\coneg\\appdata\\roaming\\python\\python311\\site-packages (0.9.53)\n",
      "Requirement already satisfied: pymsgbox in c:\\users\\coneg\\appdata\\roaming\\python\\python311\\site-packages (from pyautogui) (1.0.9)\n",
      "Requirement already satisfied: PyTweening>=1.0.1 in c:\\users\\coneg\\appdata\\roaming\\python\\python311\\site-packages (from pyautogui) (1.0.4)\n",
      "Requirement already satisfied: pyscreeze>=0.1.21 in c:\\users\\coneg\\appdata\\roaming\\python\\python311\\site-packages (from pyautogui) (0.1.28)\n",
      "Requirement already satisfied: pygetwindow>=0.0.5 in c:\\users\\coneg\\appdata\\roaming\\python\\python311\\site-packages (from pyautogui) (0.0.9)\n",
      "Requirement already satisfied: mouseinfo in c:\\users\\coneg\\appdata\\roaming\\python\\python311\\site-packages (from pyautogui) (0.1.3)\n",
      "Requirement already satisfied: pyrect in c:\\users\\coneg\\appdata\\roaming\\python\\python311\\site-packages (from pygetwindow>=0.0.5->pyautogui) (0.2.0)\n",
      "Requirement already satisfied: pyperclip in c:\\users\\coneg\\appdata\\roaming\\python\\python311\\site-packages (from mouseinfo->pyautogui) (1.8.2)\n"
     ]
    }
   ],
   "source": [
    "!pip install pyautogui\n"
   ]
  },
  {
   "cell_type": "code",
   "execution_count": 43,
   "id": "b26f9c8c",
   "metadata": {},
   "outputs": [],
   "source": [
    "import pyautogui\n",
    "import time\n",
    "import pandas"
   ]
  },
  {
   "cell_type": "code",
   "execution_count": 34,
   "id": "f45a56ca",
   "metadata": {},
   "outputs": [],
   "source": [
    "#Clicar   -> pyautogui.click\n",
    "#Escrever -> pyautogui.write \n",
    "#Apertar  -> pyautogui.press\n",
    "#Scroll \"Rolar\" -> pyautogui.scroll(100) números positivos rola para cima, números negativos rola para baixo"
   ]
  },
  {
   "cell_type": "code",
   "execution_count": 35,
   "id": "8ceb1d18",
   "metadata": {},
   "outputs": [],
   "source": [
    "#Abre uma nova guia do chrome\n",
    "pyautogui.hotkey(\"ctrl\",\"t\")"
   ]
  },
  {
   "cell_type": "code",
   "execution_count": 28,
   "id": "3e9a8bf0",
   "metadata": {},
   "outputs": [],
   "source": [
    "#Cria uma pausa de 1 segundo a cada ação \n",
    "pyautogui.PAUSE = 1"
   ]
  },
  {
   "cell_type": "code",
   "execution_count": 40,
   "id": "daefaf93",
   "metadata": {},
   "outputs": [],
   "source": [
    "#Abre o menu iniciar do Windows\n",
    "pyautogui.press(\"win\")\n",
    "\n",
    "#Abre o google chrome\n",
    "pyautogui.write(\"chrome\")\n",
    "\n",
    "#Preciona a tecla enter\n",
    "pyautogui.press(\"enter\")\n",
    "\n",
    "#Armazena o link \n",
    "link = (\"https://dlp.hashtagtreinamentos.com/python/intensivao/login\")\n",
    "\n",
    "#Passa o link de acesso a pagina como parametro;\n",
    "pyautogui.write(link)\n",
    "\n",
    "# Preciona enter para entrar no site\n",
    "pyautogui.press(\"enter\")\n",
    "\n",
    "#Esperar por 3 segundos\n",
    "time.sleep(3)\n",
    "\n",
    "#Click\n",
    "pyautogui.click(x=867, y=351)\n",
    "\n",
    "#Escrever o e-mail\n",
    "pyautogui.write(\"EmailTeste@gmail.com\")\n",
    "\n",
    "#Passar no campo de senha utilizando a telca tab \n",
    "pyautogui.press(\"tab\")\n",
    "\n",
    "#Escrever senha\n",
    "pyautogui.write(\"senhaTeste\")\n",
    "\n",
    "#Clicar no botão logar \n",
    "pyautogui.click(x=867, y=351) #Alterar\n",
    "\n",
    "#Esperar por 3 segundos\n",
    "time.sleep(3)\n",
    "\n",
    "# Lendo uma tabela com o pandas\n",
    "#Se estiver na mesma pasta basta colocar o nome do arquivo,assim como no modelo abaixo\n",
    "tabelas = pandas.read_csv(\"produto.csv\")\n",
    "\n",
    "\n",
    "\n"
   ]
  },
  {
   "cell_type": "code",
   "execution_count": 41,
   "id": "f685c3c2",
   "metadata": {},
   "outputs": [
    {
     "name": "stdout",
     "output_type": "stream",
     "text": [
      "Point(x=867, y=351)\n"
     ]
    }
   ],
   "source": [
    "time.sleep(5)\n",
    "print(pyautogui.position())"
   ]
  },
  {
   "cell_type": "code",
   "execution_count": 49,
   "id": "292cb293",
   "metadata": {},
   "outputs": [
    {
     "name": "stdout",
     "output_type": "stream",
     "text": [
      "         codigo       marca        tipo  categoria  preco_unitario  custo  \\\n",
      "0    MOLO000251    Logitech       Mouse          1           25.95    6.5   \n",
      "1    MOLO000192    Logitech       Mouse          2           19.95    5.0   \n",
      "2    CAHA000251     Hashtag      Camisa          1           25.00   11.0   \n",
      "3    CAHA000252     Hashtag      Camisa          2           25.00   11.0   \n",
      "4    MOMU000111  Multilaser       Mouse          1           11.99    3.4   \n",
      "..          ...         ...         ...        ...             ...    ...   \n",
      "288  ACAP000192       Apple  Acessorios          2           19.00    3.8   \n",
      "289  ACSA0009.3     Samsung  Acessorios          3            9.55    2.1   \n",
      "290  CEMO000271    Motorola     Celular          1          279.00   72.5   \n",
      "291  FOMO000152    Motorola        Fone          2          150.00   33.0   \n",
      "292  CEMO000223    Motorola     Celular          3          229.00   55.0   \n",
      "\n",
      "                  obs  \n",
      "0                 NaN  \n",
      "1                 NaN  \n",
      "2                 NaN  \n",
      "3    Conferir estoque  \n",
      "4                 NaN  \n",
      "..                ...  \n",
      "288               NaN  \n",
      "289               NaN  \n",
      "290               NaN  \n",
      "291               NaN  \n",
      "292               NaN  \n",
      "\n",
      "[293 rows x 7 columns]\n"
     ]
    }
   ],
   "source": [
    "# Lendo uma tabela com o pandas\n",
    "#Se estiver na mesma pasta basta colocar o nome do arquivo,assim como no modelo abaixo\n",
    "tabela = pandas.read_csv(\"C:/Users/coneg/OneDrive/Área de Trabalho/baseDados/produtos.csv\")\n",
    "\n",
    "print(tabela)\n"
   ]
  },
  {
   "cell_type": "code",
   "execution_count": 51,
   "id": "dfb8d044",
   "metadata": {},
   "outputs": [
    {
     "data": {
      "text/html": [
       "<div>\n",
       "<style scoped>\n",
       "    .dataframe tbody tr th:only-of-type {\n",
       "        vertical-align: middle;\n",
       "    }\n",
       "\n",
       "    .dataframe tbody tr th {\n",
       "        vertical-align: top;\n",
       "    }\n",
       "\n",
       "    .dataframe thead th {\n",
       "        text-align: right;\n",
       "    }\n",
       "</style>\n",
       "<table border=\"1\" class=\"dataframe\">\n",
       "  <thead>\n",
       "    <tr style=\"text-align: right;\">\n",
       "      <th></th>\n",
       "      <th>codigo</th>\n",
       "      <th>marca</th>\n",
       "      <th>tipo</th>\n",
       "      <th>categoria</th>\n",
       "      <th>preco_unitario</th>\n",
       "      <th>custo</th>\n",
       "      <th>obs</th>\n",
       "    </tr>\n",
       "  </thead>\n",
       "  <tbody>\n",
       "    <tr>\n",
       "      <th>0</th>\n",
       "      <td>MOLO000251</td>\n",
       "      <td>Logitech</td>\n",
       "      <td>Mouse</td>\n",
       "      <td>1</td>\n",
       "      <td>25.95</td>\n",
       "      <td>6.5</td>\n",
       "      <td>NaN</td>\n",
       "    </tr>\n",
       "    <tr>\n",
       "      <th>1</th>\n",
       "      <td>MOLO000192</td>\n",
       "      <td>Logitech</td>\n",
       "      <td>Mouse</td>\n",
       "      <td>2</td>\n",
       "      <td>19.95</td>\n",
       "      <td>5.0</td>\n",
       "      <td>NaN</td>\n",
       "    </tr>\n",
       "    <tr>\n",
       "      <th>2</th>\n",
       "      <td>CAHA000251</td>\n",
       "      <td>Hashtag</td>\n",
       "      <td>Camisa</td>\n",
       "      <td>1</td>\n",
       "      <td>25.00</td>\n",
       "      <td>11.0</td>\n",
       "      <td>NaN</td>\n",
       "    </tr>\n",
       "    <tr>\n",
       "      <th>3</th>\n",
       "      <td>CAHA000252</td>\n",
       "      <td>Hashtag</td>\n",
       "      <td>Camisa</td>\n",
       "      <td>2</td>\n",
       "      <td>25.00</td>\n",
       "      <td>11.0</td>\n",
       "      <td>Conferir estoque</td>\n",
       "    </tr>\n",
       "    <tr>\n",
       "      <th>4</th>\n",
       "      <td>MOMU000111</td>\n",
       "      <td>Multilaser</td>\n",
       "      <td>Mouse</td>\n",
       "      <td>1</td>\n",
       "      <td>11.99</td>\n",
       "      <td>3.4</td>\n",
       "      <td>NaN</td>\n",
       "    </tr>\n",
       "    <tr>\n",
       "      <th>...</th>\n",
       "      <td>...</td>\n",
       "      <td>...</td>\n",
       "      <td>...</td>\n",
       "      <td>...</td>\n",
       "      <td>...</td>\n",
       "      <td>...</td>\n",
       "      <td>...</td>\n",
       "    </tr>\n",
       "    <tr>\n",
       "      <th>288</th>\n",
       "      <td>ACAP000192</td>\n",
       "      <td>Apple</td>\n",
       "      <td>Acessorios</td>\n",
       "      <td>2</td>\n",
       "      <td>19.00</td>\n",
       "      <td>3.8</td>\n",
       "      <td>NaN</td>\n",
       "    </tr>\n",
       "    <tr>\n",
       "      <th>289</th>\n",
       "      <td>ACSA0009.3</td>\n",
       "      <td>Samsung</td>\n",
       "      <td>Acessorios</td>\n",
       "      <td>3</td>\n",
       "      <td>9.55</td>\n",
       "      <td>2.1</td>\n",
       "      <td>NaN</td>\n",
       "    </tr>\n",
       "    <tr>\n",
       "      <th>290</th>\n",
       "      <td>CEMO000271</td>\n",
       "      <td>Motorola</td>\n",
       "      <td>Celular</td>\n",
       "      <td>1</td>\n",
       "      <td>279.00</td>\n",
       "      <td>72.5</td>\n",
       "      <td>NaN</td>\n",
       "    </tr>\n",
       "    <tr>\n",
       "      <th>291</th>\n",
       "      <td>FOMO000152</td>\n",
       "      <td>Motorola</td>\n",
       "      <td>Fone</td>\n",
       "      <td>2</td>\n",
       "      <td>150.00</td>\n",
       "      <td>33.0</td>\n",
       "      <td>NaN</td>\n",
       "    </tr>\n",
       "    <tr>\n",
       "      <th>292</th>\n",
       "      <td>CEMO000223</td>\n",
       "      <td>Motorola</td>\n",
       "      <td>Celular</td>\n",
       "      <td>3</td>\n",
       "      <td>229.00</td>\n",
       "      <td>55.0</td>\n",
       "      <td>NaN</td>\n",
       "    </tr>\n",
       "  </tbody>\n",
       "</table>\n",
       "<p>293 rows × 7 columns</p>\n",
       "</div>"
      ],
      "text/plain": [
       "         codigo       marca        tipo  categoria  preco_unitario  custo  \\\n",
       "0    MOLO000251    Logitech       Mouse          1           25.95    6.5   \n",
       "1    MOLO000192    Logitech       Mouse          2           19.95    5.0   \n",
       "2    CAHA000251     Hashtag      Camisa          1           25.00   11.0   \n",
       "3    CAHA000252     Hashtag      Camisa          2           25.00   11.0   \n",
       "4    MOMU000111  Multilaser       Mouse          1           11.99    3.4   \n",
       "..          ...         ...         ...        ...             ...    ...   \n",
       "288  ACAP000192       Apple  Acessorios          2           19.00    3.8   \n",
       "289  ACSA0009.3     Samsung  Acessorios          3            9.55    2.1   \n",
       "290  CEMO000271    Motorola     Celular          1          279.00   72.5   \n",
       "291  FOMO000152    Motorola        Fone          2          150.00   33.0   \n",
       "292  CEMO000223    Motorola     Celular          3          229.00   55.0   \n",
       "\n",
       "                  obs  \n",
       "0                 NaN  \n",
       "1                 NaN  \n",
       "2                 NaN  \n",
       "3    Conferir estoque  \n",
       "4                 NaN  \n",
       "..                ...  \n",
       "288               NaN  \n",
       "289               NaN  \n",
       "290               NaN  \n",
       "291               NaN  \n",
       "292               NaN  \n",
       "\n",
       "[293 rows x 7 columns]"
      ]
     },
     "metadata": {},
     "output_type": "display_data"
    }
   ],
   "source": [
    "display(tabela)"
   ]
  }
 ],
 "metadata": {
  "kernelspec": {
   "display_name": "Python 3 (ipykernel)",
   "language": "python",
   "name": "python3"
  },
  "language_info": {
   "codemirror_mode": {
    "name": "ipython",
    "version": 3
   },
   "file_extension": ".py",
   "mimetype": "text/x-python",
   "name": "python",
   "nbconvert_exporter": "python",
   "pygments_lexer": "ipython3",
   "version": "3.11.5"
  }
 },
 "nbformat": 4,
 "nbformat_minor": 5
}
