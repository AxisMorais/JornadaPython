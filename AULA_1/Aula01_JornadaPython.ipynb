{
 "cells": [
  {
   "cell_type": "code",
   "execution_count": 2,
   "id": "ae15e016",
   "metadata": {},
   "outputs": [
    {
     "name": "stdout",
     "output_type": "stream",
     "text": [
      "Ola Mundo!\n"
     ]
    }
   ],
   "source": [
    "print('Ola Mundo!')"
   ]
  },
  {
   "cell_type": "code",
   "execution_count": 3,
   "id": "4e21223f",
   "metadata": {},
   "outputs": [
    {
     "name": "stdout",
     "output_type": "stream",
     "text": [
      "Requirement already satisfied: pyautogui in c:\\users\\coneg\\appdata\\roaming\\python\\python311\\site-packages (0.9.53)\n",
      "Requirement already satisfied: pymsgbox in c:\\users\\coneg\\appdata\\roaming\\python\\python311\\site-packages (from pyautogui) (1.0.9)\n",
      "Requirement already satisfied: PyTweening>=1.0.1 in c:\\users\\coneg\\appdata\\roaming\\python\\python311\\site-packages (from pyautogui) (1.0.4)\n",
      "Requirement already satisfied: pyscreeze>=0.1.21 in c:\\users\\coneg\\appdata\\roaming\\python\\python311\\site-packages (from pyautogui) (0.1.28)\n",
      "Requirement already satisfied: pygetwindow>=0.0.5 in c:\\users\\coneg\\appdata\\roaming\\python\\python311\\site-packages (from pyautogui) (0.0.9)\n",
      "Requirement already satisfied: mouseinfo in c:\\users\\coneg\\appdata\\roaming\\python\\python311\\site-packages (from pyautogui) (0.1.3)\n",
      "Requirement already satisfied: pyrect in c:\\users\\coneg\\appdata\\roaming\\python\\python311\\site-packages (from pygetwindow>=0.0.5->pyautogui) (0.2.0)\n",
      "Requirement already satisfied: pyperclip in c:\\users\\coneg\\appdata\\roaming\\python\\python311\\site-packages (from mouseinfo->pyautogui) (1.8.2)\n"
     ]
    }
   ],
   "source": [
    "!pip install pyautogui\n"
   ]
  },
  {
   "cell_type": "code",
   "execution_count": 33,
   "id": "30a98a5c",
   "metadata": {},
   "outputs": [],
   "source": [
    "import pyautogui\n",
    "import time\n",
    "import pandas"
   ]
  },
  {
   "cell_type": "code",
   "execution_count": 34,
   "id": "f3f7d4e4",
   "metadata": {},
   "outputs": [],
   "source": [
    "#Clicar   -> pyautogui.click\n",
    "#Escrever -> pyautogui.write \n",
    "#Apertar  -> pyautogui.press"
   ]
  },
  {
   "cell_type": "code",
   "execution_count": 35,
   "id": "d0338c33",
   "metadata": {},
   "outputs": [],
   "source": [
    "#Abre uma nova guia do chrome\n",
    "pyautogui.hotkey(\"ctrl\",\"t\")"
   ]
  },
  {
   "cell_type": "code",
   "execution_count": 28,
   "id": "51f83858",
   "metadata": {},
   "outputs": [],
   "source": [
    "#Cria uma pausa de 1 segundo a cada ação \n",
    "pyautogui.PAUSE = 1"
   ]
  },
  {
   "cell_type": "code",
   "execution_count": 40,
   "id": "a344adf5",
   "metadata": {},
   "outputs": [],
   "source": [
    "#Abre o menu iniciar do Windows\n",
    "pyautogui.press(\"win\")\n",
    "\n",
    "#Abre o google chrome\n",
    "pyautogui.write(\"chrome\")\n",
    "\n",
    "#Preciona a tecla enter\n",
    "pyautogui.press(\"enter\")\n",
    "\n",
    "#Armazena o link \n",
    "link = (\"https://dlp.hashtagtreinamentos.com/python/intensivao/login\")\n",
    "\n",
    "#Passa o link de acesso a pagina como parametro;\n",
    "pyautogui.write(link)\n",
    "\n",
    "# Preciona enter para entrar no site\n",
    "pyautogui.press(\"enter\")\n",
    "\n",
    "#Esperar por 3 segundos\n",
    "time.sleep(3)\n",
    "\n",
    "#Click\n",
    "pyautogui.click(x=867, y=351)\n",
    "\n",
    "#Escrever o e-mail\n",
    "pyautogui.write(\"EmailTeste@gmail.com\")\n",
    "\n",
    "#Passar no campo de senha utilizando a telca tab \n",
    "pyautogui.press(\"tab\")\n",
    "\n",
    "#Escrever senha\n",
    "pyautogui.write(\"senhaTeste\")\n",
    "\n",
    "#Clicar no botão logar \n",
    "pyautogui.click(x=867, y=351) #Alterar\n",
    "\n",
    "#Esperar por 3 segundos\n",
    "time.sleep(3)\n",
    "\n",
    "# Lendo uma tabela com o pandas\n",
    "#Se estiver na mesma pasta basta colocar o nome do arquivo,assim como no modelo abaixo\n",
    "tabelas = pandas.read_csv(\"produto.csv\")\n",
    "\n",
    "\n",
    "\n"
   ]
  },
  {
   "cell_type": "code",
   "execution_count": 41,
   "id": "a78a8e51",
   "metadata": {},
   "outputs": [
    {
     "name": "stdout",
     "output_type": "stream",
     "text": [
      "Point(x=867, y=351)\n"
     ]
    }
   ],
   "source": [
    "time.sleep(5)\n",
    "print(pyautogui.position())"
   ]
  },
  {
   "cell_type": "code",
   "execution_count": null,
   "id": "351d2d69",
   "metadata": {},
   "outputs": [],
   "source": []
  }
 ],
 "metadata": {
  "kernelspec": {
   "display_name": "Python 3 (ipykernel)",
   "language": "python",
   "name": "python3"
  },
  "language_info": {
   "codemirror_mode": {
    "name": "ipython",
    "version": 3
   },
   "file_extension": ".py",
   "mimetype": "text/x-python",
   "name": "python",
   "nbconvert_exporter": "python",
   "pygments_lexer": "ipython3",
   "version": "3.11.5"
  }
 },
 "nbformat": 4,
 "nbformat_minor": 5
}
