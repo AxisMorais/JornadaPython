{
 "cells": [
  {
   "cell_type": "code",
   "execution_count": 1,
   "id": "187e290a-8709-4ec0-b43e-26e1eff9bdd8",
   "metadata": {
    "tags": []
   },
   "outputs": [
    {
     "name": "stdout",
     "output_type": "stream",
     "text": [
      "Collecting flat\n",
      "  Downloading Flat-0.3.2.tar.gz (47 kB)\n",
      "     ---------------------------------------- 0.0/47.5 kB ? eta -:--:--\n",
      "     -------- ------------------------------- 10.2/47.5 kB ? eta -:--:--\n",
      "     ---------------- --------------------- 20.5/47.5 kB 217.9 kB/s eta 0:00:01\n",
      "     -------------------------------- ----- 41.0/47.5 kB 281.8 kB/s eta 0:00:01\n",
      "     -------------------------------------- 47.5/47.5 kB 216.9 kB/s eta 0:00:00\n",
      "  Preparing metadata (setup.py): started\n",
      "  Preparing metadata (setup.py): finished with status 'done'\n",
      "Building wheels for collected packages: flat\n",
      "  Building wheel for flat (setup.py): started\n",
      "  Building wheel for flat (setup.py): finished with status 'done'\n",
      "  Created wheel for flat: filename=Flat-0.3.2-py3-none-any.whl size=54593 sha256=7ca4f78d872b653b24ea9f3c955749ee06a0c70a33060323ab69b5f2171fc0e1\n",
      "  Stored in directory: c:\\users\\coneg\\appdata\\local\\pip\\cache\\wheels\\7e\\87\\84\\587919fc7f02afb84664eb689f59cba2943411454cf56b3bcf\n",
      "Successfully built flat\n",
      "Installing collected packages: flat\n",
      "Successfully installed flat-0.3.2\n"
     ]
    }
   ],
   "source": [
    "!pip install flat\n"
   ]
  },
  {
   "cell_type": "code",
   "execution_count": 10,
   "id": "f27c9a85-0268-4cfe-a16c-04ac0a992b1e",
   "metadata": {
    "tags": []
   },
   "outputs": [
    {
     "name": "stdout",
     "output_type": "stream",
     "text": [
      "Ola mundo\n"
     ]
    }
   ],
   "source": [
    "import flat as ft \n",
    "print('Ola mundo') "
   ]
  },
  {
   "cell_type": "code",
   "execution_count": 14,
   "id": "fa0b8167-3273-474c-b562-97e56f486ebe",
   "metadata": {
    "tags": []
   },
   "outputs": [],
   "source": [
    "def main(pagina):\n",
    "        texto = ft.Text(\"Chat - Teste\")\n",
    "        pagina.add(texto)\n",
    "\n",
    "ft.view(main)\n",
    "    "
   ]
  },
  {
   "cell_type": "code",
   "execution_count": null,
   "id": "4d7d67ad-6ac3-4726-b117-42de5076fd5a",
   "metadata": {},
   "outputs": [],
   "source": []
  },
  {
   "cell_type": "code",
   "execution_count": null,
   "id": "5593ede3-f3c0-43a6-8efb-919de0f194f1",
   "metadata": {},
   "outputs": [],
   "source": []
  },
  {
   "cell_type": "code",
   "execution_count": null,
   "id": "c4eced25-c5d7-4535-b7c6-1f6db95b4fea",
   "metadata": {},
   "outputs": [],
   "source": []
  },
  {
   "cell_type": "code",
   "execution_count": null,
   "id": "ba7fb3ab-34dc-47d3-9ad9-095f58e433e7",
   "metadata": {},
   "outputs": [],
   "source": []
  },
  {
   "cell_type": "code",
   "execution_count": null,
   "id": "769a0071-e006-47de-8d95-7a7ddf025d6c",
   "metadata": {},
   "outputs": [],
   "source": []
  }
 ],
 "metadata": {
  "kernelspec": {
   "display_name": "Python 3 (ipykernel)",
   "language": "python",
   "name": "python3"
  },
  "language_info": {
   "codemirror_mode": {
    "name": "ipython",
    "version": 3
   },
   "file_extension": ".py",
   "mimetype": "text/x-python",
   "name": "python",
   "nbconvert_exporter": "python",
   "pygments_lexer": "ipython3",
   "version": "3.11.5"
  }
 },
 "nbformat": 4,
 "nbformat_minor": 5
}
